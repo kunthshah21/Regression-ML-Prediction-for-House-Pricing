{
 "cells": [
  {
   "cell_type": "code",
   "execution_count": 2,
   "id": "3a7ec531-1bfc-4ce1-8115-eca62dbfaf97",
   "metadata": {
    "tags": []
   },
   "outputs": [
    {
     "name": "stdout",
     "output_type": "stream",
     "text": [
      "Dataset updated successfully.\n"
     ]
    }
   ],
   "source": [
    "import pandas as pd\n",
    "\n",
    "# Load your dataset (replace 'your_file.csv' with the actual filename)\n",
    "house_data = pd.read_csv('train.csv')\n",
    "\n",
    "# Replace \"NA\" strings with \"Not Applicable\"\n",
    "house_data.replace(\"NA\", \"Not Applicable\", inplace=True)\n",
    "\n",
    "# Save the updated dataset back to the same file\n",
    "house_data.to_csv('train.csv', index=False)\n",
    "\n",
    "print(\"Dataset updated successfully.\")"
   ]
  },
  {
   "cell_type": "code",
   "execution_count": 3,
   "id": "528625c4-35ca-46d4-b89d-2152d28d440d",
   "metadata": {
    "tags": []
   },
   "outputs": [
    {
     "name": "stdout",
     "output_type": "stream",
     "text": [
      "Dataset updated successfully, with 'NA' replaced by 'Not Applicable'.\n"
     ]
    }
   ],
   "source": [
    "import pandas as pd\n",
    "\n",
    "# Load your dataset (replace 'your_file.csv' with the actual filename)\n",
    "house_data = pd.read_csv('train.csv')\n",
    "\n",
    "# Replace \"NA\" strings with \"Not Applicable\" without dropping rows\n",
    "house_data = house_data.applymap(lambda x: \"Not Applicable\" if x == \"NA\" else x)\n",
    "\n",
    "# Save the updated dataset back to the same file\n",
    "house_data.to_csv('train_new.csv', index=False)\n",
    "\n",
    "print(\"Dataset updated successfully, with 'NA' replaced by 'Not Applicable'.\")"
   ]
  },
  {
   "cell_type": "code",
   "execution_count": null,
   "id": "dcd15ccc-84cf-4ca3-87cc-b3c1c8d9501d",
   "metadata": {},
   "outputs": [],
   "source": []
  }
 ],
 "metadata": {
  "kernelspec": {
   "display_name": "Python 3 (ipykernel)",
   "language": "python",
   "name": "python3"
  },
  "language_info": {
   "codemirror_mode": {
    "name": "ipython",
    "version": 3
   },
   "file_extension": ".py",
   "mimetype": "text/x-python",
   "name": "python",
   "nbconvert_exporter": "python",
   "pygments_lexer": "ipython3",
   "version": "3.11.4"
  }
 },
 "nbformat": 4,
 "nbformat_minor": 5
}
